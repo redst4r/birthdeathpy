{
 "cells": [
  {
   "cell_type": "markdown",
   "metadata": {},
   "source": [
    "# Discrete time birth death process with self replication\n",
    "Simulates a simple. discrete time stochastic model of a self replicating object, i.e.\n",
    "```\n",
    "A -> A + A  # division\n",
    "A -> 0      # death\n",
    "```\n",
    "In addition, objects can mutate, i.e. `A->B`, and B replicates with the same rules.\n",
    "\n",
    "**Examples**:\n",
    "- cellular growth\n",
    "- PCR amplification\n",
    "\n"
   ]
  },
  {
   "cell_type": "code",
   "execution_count": 2,
   "metadata": {},
   "outputs": [],
   "source": [
    "import pandas as pd\n",
    "import numpy as np\n",
    "from birthdeathpy import simulation as sim\n",
    "from birthdeathpy.cli import timecourse_to_dataframe\n",
    "import seaborn as sns\n",
    "import matplotlib.pyplot as plt"
   ]
  },
  {
   "cell_type": "markdown",
   "metadata": {},
   "source": [
    "## Create some initial condition\n",
    "5 clones, each with one cell. Its just a dictionary of clone frequencies"
   ]
  },
  {
   "cell_type": "code",
   "execution_count": 3,
   "metadata": {},
   "outputs": [
    {
     "data": {
      "text/plain": [
       "{'ATAAGTAGATTCGGTGCTCT': 1,\n",
       " 'GCTCAGATAGCGTCGGCTTC': 1,\n",
       " 'TGTCCCGAGTGCGCAGGCGT': 1,\n",
       " 'GATCGTAAAGGACGTCGGCC': 1,\n",
       " 'TAGCGTACGATTCTCGTACG': 1}"
      ]
     },
     "execution_count": 3,
     "metadata": {},
     "output_type": "execute_result"
    }
   ],
   "source": [
    "n_clones = 5\n",
    "abundance = 1\n",
    "initial_seq_freq = {\n",
    "        sim.create_random_sequence(length=20): abundance for _ in range(n_clones)\n",
    "    }\n",
    "initial_seq_freq"
   ]
  },
  {
   "cell_type": "markdown",
   "metadata": {},
   "source": [
    "## Simulate the population\n",
    "- 20 rounds of division\n",
    "- no mutations\n",
    "- 1/3 chance of a single cell dying per round"
   ]
  },
  {
   "cell_type": "code",
   "execution_count": 4,
   "metadata": {},
   "outputs": [
    {
     "name": "stdout",
     "output_type": "stream",
     "text": [
      "Final:\t7.284e+03 molecules total, 4 subclones\n"
     ]
    }
   ],
   "source": [
    "timecourse = sim.PCR_amplification_with_errors(\n",
    "    initial_seq_freq,\n",
    "    rounds=20,\n",
    "    per_base_error_rate=0,  # no mutations\n",
    "    prob_death = 0.3)"
   ]
  },
  {
   "cell_type": "markdown",
   "metadata": {},
   "source": [
    "Returns a list of dictionaries (of clonesizes)."
   ]
  },
  {
   "cell_type": "code",
   "execution_count": 5,
   "metadata": {},
   "outputs": [
    {
     "data": {
      "text/plain": [
       "{'ATAAGTAGATTCGGTGCTCT': 1,\n",
       " 'GCTCAGATAGCGTCGGCTTC': 1,\n",
       " 'TGTCCCGAGTGCGCAGGCGT': 1,\n",
       " 'GATCGTAAAGGACGTCGGCC': 1,\n",
       " 'TAGCGTACGATTCTCGTACG': 1}"
      ]
     },
     "execution_count": 5,
     "metadata": {},
     "output_type": "execute_result"
    }
   ],
   "source": [
    "timecourse[0]  # the initial condition"
   ]
  },
  {
   "cell_type": "code",
   "execution_count": 6,
   "metadata": {},
   "outputs": [
    {
     "data": {
      "text/plain": [
       "defaultdict(int,\n",
       "            {'ATAAGTAGATTCGGTGCTCT': 2132,\n",
       "             'GCTCAGATAGCGTCGGCTTC': 1772,\n",
       "             'GATCGTAAAGGACGTCGGCC': 726,\n",
       "             'TAGCGTACGATTCTCGTACG': 2654})"
      ]
     },
     "execution_count": 6,
     "metadata": {},
     "output_type": "execute_result"
    }
   ],
   "source": [
    "timecourse[20]  # final clonesizes after 20 rounds"
   ]
  },
  {
   "cell_type": "markdown",
   "metadata": {},
   "source": [
    "turn the timecourse into a dataframe, easier plotting"
   ]
  },
  {
   "cell_type": "code",
   "execution_count": 7,
   "metadata": {},
   "outputs": [
    {
     "data": {
      "text/html": [
       "<div>\n",
       "<style scoped>\n",
       "    .dataframe tbody tr th:only-of-type {\n",
       "        vertical-align: middle;\n",
       "    }\n",
       "\n",
       "    .dataframe tbody tr th {\n",
       "        vertical-align: top;\n",
       "    }\n",
       "\n",
       "    .dataframe thead th {\n",
       "        text-align: right;\n",
       "    }\n",
       "</style>\n",
       "<table border=\"1\" class=\"dataframe\">\n",
       "  <thead>\n",
       "    <tr style=\"text-align: right;\">\n",
       "      <th></th>\n",
       "      <th>0</th>\n",
       "      <th>1</th>\n",
       "      <th>2</th>\n",
       "      <th>3</th>\n",
       "      <th>4</th>\n",
       "      <th>5</th>\n",
       "      <th>6</th>\n",
       "      <th>7</th>\n",
       "      <th>8</th>\n",
       "      <th>9</th>\n",
       "      <th>...</th>\n",
       "      <th>11</th>\n",
       "      <th>12</th>\n",
       "      <th>13</th>\n",
       "      <th>14</th>\n",
       "      <th>15</th>\n",
       "      <th>16</th>\n",
       "      <th>17</th>\n",
       "      <th>18</th>\n",
       "      <th>19</th>\n",
       "      <th>20</th>\n",
       "    </tr>\n",
       "  </thead>\n",
       "  <tbody>\n",
       "    <tr>\n",
       "      <th>ATAAGTAGATTCGGTGCTCT</th>\n",
       "      <td>1</td>\n",
       "      <td>2</td>\n",
       "      <td>4</td>\n",
       "      <td>8</td>\n",
       "      <td>10</td>\n",
       "      <td>12</td>\n",
       "      <td>18</td>\n",
       "      <td>24</td>\n",
       "      <td>34</td>\n",
       "      <td>46</td>\n",
       "      <td>...</td>\n",
       "      <td>100</td>\n",
       "      <td>146</td>\n",
       "      <td>192</td>\n",
       "      <td>268</td>\n",
       "      <td>434</td>\n",
       "      <td>600</td>\n",
       "      <td>790</td>\n",
       "      <td>1118</td>\n",
       "      <td>1506</td>\n",
       "      <td>2132</td>\n",
       "    </tr>\n",
       "    <tr>\n",
       "      <th>GCTCAGATAGCGTCGGCTTC</th>\n",
       "      <td>1</td>\n",
       "      <td>2</td>\n",
       "      <td>4</td>\n",
       "      <td>6</td>\n",
       "      <td>6</td>\n",
       "      <td>12</td>\n",
       "      <td>18</td>\n",
       "      <td>22</td>\n",
       "      <td>30</td>\n",
       "      <td>34</td>\n",
       "      <td>...</td>\n",
       "      <td>78</td>\n",
       "      <td>116</td>\n",
       "      <td>162</td>\n",
       "      <td>228</td>\n",
       "      <td>306</td>\n",
       "      <td>432</td>\n",
       "      <td>610</td>\n",
       "      <td>904</td>\n",
       "      <td>1266</td>\n",
       "      <td>1772</td>\n",
       "    </tr>\n",
       "    <tr>\n",
       "      <th>TGTCCCGAGTGCGCAGGCGT</th>\n",
       "      <td>1</td>\n",
       "      <td>0</td>\n",
       "      <td>0</td>\n",
       "      <td>0</td>\n",
       "      <td>0</td>\n",
       "      <td>0</td>\n",
       "      <td>0</td>\n",
       "      <td>0</td>\n",
       "      <td>0</td>\n",
       "      <td>0</td>\n",
       "      <td>...</td>\n",
       "      <td>0</td>\n",
       "      <td>0</td>\n",
       "      <td>0</td>\n",
       "      <td>0</td>\n",
       "      <td>0</td>\n",
       "      <td>0</td>\n",
       "      <td>0</td>\n",
       "      <td>0</td>\n",
       "      <td>0</td>\n",
       "      <td>0</td>\n",
       "    </tr>\n",
       "    <tr>\n",
       "      <th>GATCGTAAAGGACGTCGGCC</th>\n",
       "      <td>1</td>\n",
       "      <td>2</td>\n",
       "      <td>4</td>\n",
       "      <td>2</td>\n",
       "      <td>4</td>\n",
       "      <td>4</td>\n",
       "      <td>8</td>\n",
       "      <td>6</td>\n",
       "      <td>6</td>\n",
       "      <td>10</td>\n",
       "      <td>...</td>\n",
       "      <td>28</td>\n",
       "      <td>42</td>\n",
       "      <td>64</td>\n",
       "      <td>78</td>\n",
       "      <td>120</td>\n",
       "      <td>166</td>\n",
       "      <td>238</td>\n",
       "      <td>350</td>\n",
       "      <td>492</td>\n",
       "      <td>726</td>\n",
       "    </tr>\n",
       "    <tr>\n",
       "      <th>TAGCGTACGATTCTCGTACG</th>\n",
       "      <td>1</td>\n",
       "      <td>2</td>\n",
       "      <td>2</td>\n",
       "      <td>4</td>\n",
       "      <td>6</td>\n",
       "      <td>10</td>\n",
       "      <td>18</td>\n",
       "      <td>30</td>\n",
       "      <td>44</td>\n",
       "      <td>52</td>\n",
       "      <td>...</td>\n",
       "      <td>128</td>\n",
       "      <td>192</td>\n",
       "      <td>262</td>\n",
       "      <td>362</td>\n",
       "      <td>510</td>\n",
       "      <td>688</td>\n",
       "      <td>968</td>\n",
       "      <td>1354</td>\n",
       "      <td>1894</td>\n",
       "      <td>2654</td>\n",
       "    </tr>\n",
       "  </tbody>\n",
       "</table>\n",
       "<p>5 rows × 21 columns</p>\n",
       "</div>"
      ],
      "text/plain": [
       "                      0   1   2   3   4   5   6   7   8   9   ...   11   12  \\\n",
       "ATAAGTAGATTCGGTGCTCT   1   2   4   8  10  12  18  24  34  46  ...  100  146   \n",
       "GCTCAGATAGCGTCGGCTTC   1   2   4   6   6  12  18  22  30  34  ...   78  116   \n",
       "TGTCCCGAGTGCGCAGGCGT   1   0   0   0   0   0   0   0   0   0  ...    0    0   \n",
       "GATCGTAAAGGACGTCGGCC   1   2   4   2   4   4   8   6   6  10  ...   28   42   \n",
       "TAGCGTACGATTCTCGTACG   1   2   2   4   6  10  18  30  44  52  ...  128  192   \n",
       "\n",
       "                       13   14   15   16   17    18    19    20  \n",
       "ATAAGTAGATTCGGTGCTCT  192  268  434  600  790  1118  1506  2132  \n",
       "GCTCAGATAGCGTCGGCTTC  162  228  306  432  610   904  1266  1772  \n",
       "TGTCCCGAGTGCGCAGGCGT    0    0    0    0    0     0     0     0  \n",
       "GATCGTAAAGGACGTCGGCC   64   78  120  166  238   350   492   726  \n",
       "TAGCGTACGATTCTCGTACG  262  362  510  688  968  1354  1894  2654  \n",
       "\n",
       "[5 rows x 21 columns]"
      ]
     },
     "execution_count": 7,
     "metadata": {},
     "output_type": "execute_result"
    }
   ],
   "source": [
    "df = timecourse_to_dataframe(timecourse)\n",
    "df"
   ]
  },
  {
   "cell_type": "markdown",
   "metadata": {},
   "source": [
    "# Some more cells"
   ]
  },
  {
   "cell_type": "code",
   "execution_count": 8,
   "metadata": {},
   "outputs": [
    {
     "name": "stdout",
     "output_type": "stream",
     "text": [
      "Final:\t7.431e+05 molecules total, 525 subclones\n"
     ]
    }
   ],
   "source": [
    "n_clones = 1000\n",
    "initial_seq_freq = {\n",
    "        sim.create_random_sequence(length=20): 1 for _ in range(n_clones)\n",
    "    }\n",
    "\n",
    "timecourse = sim.PCR_amplification_with_errors(\n",
    "     initial_seq_freq,\n",
    "     rounds=20,\n",
    "     per_base_error_rate=0,  # no mutations\n",
    "     prob_death = 0.3)\n",
    "df = timecourse_to_dataframe(timecourse)"
   ]
  },
  {
   "cell_type": "code",
   "execution_count": 9,
   "metadata": {},
   "outputs": [
    {
     "data": {
      "text/html": [
       "<div>\n",
       "<style scoped>\n",
       "    .dataframe tbody tr th:only-of-type {\n",
       "        vertical-align: middle;\n",
       "    }\n",
       "\n",
       "    .dataframe tbody tr th {\n",
       "        vertical-align: top;\n",
       "    }\n",
       "\n",
       "    .dataframe thead th {\n",
       "        text-align: right;\n",
       "    }\n",
       "</style>\n",
       "<table border=\"1\" class=\"dataframe\">\n",
       "  <thead>\n",
       "    <tr style=\"text-align: right;\">\n",
       "      <th></th>\n",
       "      <th>0</th>\n",
       "      <th>1</th>\n",
       "      <th>2</th>\n",
       "      <th>3</th>\n",
       "      <th>4</th>\n",
       "      <th>5</th>\n",
       "      <th>6</th>\n",
       "      <th>7</th>\n",
       "      <th>8</th>\n",
       "      <th>9</th>\n",
       "      <th>...</th>\n",
       "      <th>11</th>\n",
       "      <th>12</th>\n",
       "      <th>13</th>\n",
       "      <th>14</th>\n",
       "      <th>15</th>\n",
       "      <th>16</th>\n",
       "      <th>17</th>\n",
       "      <th>18</th>\n",
       "      <th>19</th>\n",
       "      <th>20</th>\n",
       "    </tr>\n",
       "  </thead>\n",
       "  <tbody>\n",
       "    <tr>\n",
       "      <th>CACGTCCAGCCCCCAGCGGC</th>\n",
       "      <td>1</td>\n",
       "      <td>0</td>\n",
       "      <td>0</td>\n",
       "      <td>0</td>\n",
       "      <td>0</td>\n",
       "      <td>0</td>\n",
       "      <td>0</td>\n",
       "      <td>0</td>\n",
       "      <td>0</td>\n",
       "      <td>0</td>\n",
       "      <td>...</td>\n",
       "      <td>0</td>\n",
       "      <td>0</td>\n",
       "      <td>0</td>\n",
       "      <td>0</td>\n",
       "      <td>0</td>\n",
       "      <td>0</td>\n",
       "      <td>0</td>\n",
       "      <td>0</td>\n",
       "      <td>0</td>\n",
       "      <td>0</td>\n",
       "    </tr>\n",
       "    <tr>\n",
       "      <th>ATAAGGATGAAAGGTCTTAG</th>\n",
       "      <td>1</td>\n",
       "      <td>0</td>\n",
       "      <td>0</td>\n",
       "      <td>0</td>\n",
       "      <td>0</td>\n",
       "      <td>0</td>\n",
       "      <td>0</td>\n",
       "      <td>0</td>\n",
       "      <td>0</td>\n",
       "      <td>0</td>\n",
       "      <td>...</td>\n",
       "      <td>0</td>\n",
       "      <td>0</td>\n",
       "      <td>0</td>\n",
       "      <td>0</td>\n",
       "      <td>0</td>\n",
       "      <td>0</td>\n",
       "      <td>0</td>\n",
       "      <td>0</td>\n",
       "      <td>0</td>\n",
       "      <td>0</td>\n",
       "    </tr>\n",
       "    <tr>\n",
       "      <th>AATATGTATGCGAGGATCCA</th>\n",
       "      <td>1</td>\n",
       "      <td>2</td>\n",
       "      <td>2</td>\n",
       "      <td>0</td>\n",
       "      <td>0</td>\n",
       "      <td>0</td>\n",
       "      <td>0</td>\n",
       "      <td>0</td>\n",
       "      <td>0</td>\n",
       "      <td>0</td>\n",
       "      <td>...</td>\n",
       "      <td>0</td>\n",
       "      <td>0</td>\n",
       "      <td>0</td>\n",
       "      <td>0</td>\n",
       "      <td>0</td>\n",
       "      <td>0</td>\n",
       "      <td>0</td>\n",
       "      <td>0</td>\n",
       "      <td>0</td>\n",
       "      <td>0</td>\n",
       "    </tr>\n",
       "    <tr>\n",
       "      <th>CCGCGTTTGATCCTTTATAA</th>\n",
       "      <td>1</td>\n",
       "      <td>2</td>\n",
       "      <td>4</td>\n",
       "      <td>8</td>\n",
       "      <td>10</td>\n",
       "      <td>14</td>\n",
       "      <td>22</td>\n",
       "      <td>34</td>\n",
       "      <td>46</td>\n",
       "      <td>58</td>\n",
       "      <td>...</td>\n",
       "      <td>114</td>\n",
       "      <td>158</td>\n",
       "      <td>230</td>\n",
       "      <td>342</td>\n",
       "      <td>468</td>\n",
       "      <td>632</td>\n",
       "      <td>898</td>\n",
       "      <td>1224</td>\n",
       "      <td>1686</td>\n",
       "      <td>2362</td>\n",
       "    </tr>\n",
       "    <tr>\n",
       "      <th>GGATTCTTAATCATGGTCAG</th>\n",
       "      <td>1</td>\n",
       "      <td>2</td>\n",
       "      <td>2</td>\n",
       "      <td>4</td>\n",
       "      <td>6</td>\n",
       "      <td>10</td>\n",
       "      <td>16</td>\n",
       "      <td>22</td>\n",
       "      <td>30</td>\n",
       "      <td>42</td>\n",
       "      <td>...</td>\n",
       "      <td>86</td>\n",
       "      <td>144</td>\n",
       "      <td>206</td>\n",
       "      <td>280</td>\n",
       "      <td>416</td>\n",
       "      <td>572</td>\n",
       "      <td>800</td>\n",
       "      <td>1106</td>\n",
       "      <td>1524</td>\n",
       "      <td>2110</td>\n",
       "    </tr>\n",
       "    <tr>\n",
       "      <th>...</th>\n",
       "      <td>...</td>\n",
       "      <td>...</td>\n",
       "      <td>...</td>\n",
       "      <td>...</td>\n",
       "      <td>...</td>\n",
       "      <td>...</td>\n",
       "      <td>...</td>\n",
       "      <td>...</td>\n",
       "      <td>...</td>\n",
       "      <td>...</td>\n",
       "      <td>...</td>\n",
       "      <td>...</td>\n",
       "      <td>...</td>\n",
       "      <td>...</td>\n",
       "      <td>...</td>\n",
       "      <td>...</td>\n",
       "      <td>...</td>\n",
       "      <td>...</td>\n",
       "      <td>...</td>\n",
       "      <td>...</td>\n",
       "      <td>...</td>\n",
       "    </tr>\n",
       "    <tr>\n",
       "      <th>ATTCGCCCATAACATCAAAA</th>\n",
       "      <td>1</td>\n",
       "      <td>0</td>\n",
       "      <td>0</td>\n",
       "      <td>0</td>\n",
       "      <td>0</td>\n",
       "      <td>0</td>\n",
       "      <td>0</td>\n",
       "      <td>0</td>\n",
       "      <td>0</td>\n",
       "      <td>0</td>\n",
       "      <td>...</td>\n",
       "      <td>0</td>\n",
       "      <td>0</td>\n",
       "      <td>0</td>\n",
       "      <td>0</td>\n",
       "      <td>0</td>\n",
       "      <td>0</td>\n",
       "      <td>0</td>\n",
       "      <td>0</td>\n",
       "      <td>0</td>\n",
       "      <td>0</td>\n",
       "    </tr>\n",
       "    <tr>\n",
       "      <th>CGTTCGAAGTTCAATACGAA</th>\n",
       "      <td>1</td>\n",
       "      <td>0</td>\n",
       "      <td>0</td>\n",
       "      <td>0</td>\n",
       "      <td>0</td>\n",
       "      <td>0</td>\n",
       "      <td>0</td>\n",
       "      <td>0</td>\n",
       "      <td>0</td>\n",
       "      <td>0</td>\n",
       "      <td>...</td>\n",
       "      <td>0</td>\n",
       "      <td>0</td>\n",
       "      <td>0</td>\n",
       "      <td>0</td>\n",
       "      <td>0</td>\n",
       "      <td>0</td>\n",
       "      <td>0</td>\n",
       "      <td>0</td>\n",
       "      <td>0</td>\n",
       "      <td>0</td>\n",
       "    </tr>\n",
       "    <tr>\n",
       "      <th>GCTAGGAGAAAGCGATGTCG</th>\n",
       "      <td>1</td>\n",
       "      <td>0</td>\n",
       "      <td>0</td>\n",
       "      <td>0</td>\n",
       "      <td>0</td>\n",
       "      <td>0</td>\n",
       "      <td>0</td>\n",
       "      <td>0</td>\n",
       "      <td>0</td>\n",
       "      <td>0</td>\n",
       "      <td>...</td>\n",
       "      <td>0</td>\n",
       "      <td>0</td>\n",
       "      <td>0</td>\n",
       "      <td>0</td>\n",
       "      <td>0</td>\n",
       "      <td>0</td>\n",
       "      <td>0</td>\n",
       "      <td>0</td>\n",
       "      <td>0</td>\n",
       "      <td>0</td>\n",
       "    </tr>\n",
       "    <tr>\n",
       "      <th>CGATCGCATACACCCGTGAA</th>\n",
       "      <td>1</td>\n",
       "      <td>2</td>\n",
       "      <td>4</td>\n",
       "      <td>6</td>\n",
       "      <td>8</td>\n",
       "      <td>10</td>\n",
       "      <td>14</td>\n",
       "      <td>18</td>\n",
       "      <td>20</td>\n",
       "      <td>30</td>\n",
       "      <td>...</td>\n",
       "      <td>76</td>\n",
       "      <td>102</td>\n",
       "      <td>128</td>\n",
       "      <td>176</td>\n",
       "      <td>252</td>\n",
       "      <td>332</td>\n",
       "      <td>482</td>\n",
       "      <td>668</td>\n",
       "      <td>902</td>\n",
       "      <td>1266</td>\n",
       "    </tr>\n",
       "    <tr>\n",
       "      <th>TCACGCGCATAAAAGTGTGG</th>\n",
       "      <td>1</td>\n",
       "      <td>0</td>\n",
       "      <td>0</td>\n",
       "      <td>0</td>\n",
       "      <td>0</td>\n",
       "      <td>0</td>\n",
       "      <td>0</td>\n",
       "      <td>0</td>\n",
       "      <td>0</td>\n",
       "      <td>0</td>\n",
       "      <td>...</td>\n",
       "      <td>0</td>\n",
       "      <td>0</td>\n",
       "      <td>0</td>\n",
       "      <td>0</td>\n",
       "      <td>0</td>\n",
       "      <td>0</td>\n",
       "      <td>0</td>\n",
       "      <td>0</td>\n",
       "      <td>0</td>\n",
       "      <td>0</td>\n",
       "    </tr>\n",
       "  </tbody>\n",
       "</table>\n",
       "<p>1000 rows × 21 columns</p>\n",
       "</div>"
      ],
      "text/plain": [
       "                      0   1   2   3   4   5   6   7   8   9   ...   11   12  \\\n",
       "CACGTCCAGCCCCCAGCGGC   1   0   0   0   0   0   0   0   0   0  ...    0    0   \n",
       "ATAAGGATGAAAGGTCTTAG   1   0   0   0   0   0   0   0   0   0  ...    0    0   \n",
       "AATATGTATGCGAGGATCCA   1   2   2   0   0   0   0   0   0   0  ...    0    0   \n",
       "CCGCGTTTGATCCTTTATAA   1   2   4   8  10  14  22  34  46  58  ...  114  158   \n",
       "GGATTCTTAATCATGGTCAG   1   2   2   4   6  10  16  22  30  42  ...   86  144   \n",
       "...                   ..  ..  ..  ..  ..  ..  ..  ..  ..  ..  ...  ...  ...   \n",
       "ATTCGCCCATAACATCAAAA   1   0   0   0   0   0   0   0   0   0  ...    0    0   \n",
       "CGTTCGAAGTTCAATACGAA   1   0   0   0   0   0   0   0   0   0  ...    0    0   \n",
       "GCTAGGAGAAAGCGATGTCG   1   0   0   0   0   0   0   0   0   0  ...    0    0   \n",
       "CGATCGCATACACCCGTGAA   1   2   4   6   8  10  14  18  20  30  ...   76  102   \n",
       "TCACGCGCATAAAAGTGTGG   1   0   0   0   0   0   0   0   0   0  ...    0    0   \n",
       "\n",
       "                       13   14   15   16   17    18    19    20  \n",
       "CACGTCCAGCCCCCAGCGGC    0    0    0    0    0     0     0     0  \n",
       "ATAAGGATGAAAGGTCTTAG    0    0    0    0    0     0     0     0  \n",
       "AATATGTATGCGAGGATCCA    0    0    0    0    0     0     0     0  \n",
       "CCGCGTTTGATCCTTTATAA  230  342  468  632  898  1224  1686  2362  \n",
       "GGATTCTTAATCATGGTCAG  206  280  416  572  800  1106  1524  2110  \n",
       "...                   ...  ...  ...  ...  ...   ...   ...   ...  \n",
       "ATTCGCCCATAACATCAAAA    0    0    0    0    0     0     0     0  \n",
       "CGTTCGAAGTTCAATACGAA    0    0    0    0    0     0     0     0  \n",
       "GCTAGGAGAAAGCGATGTCG    0    0    0    0    0     0     0     0  \n",
       "CGATCGCATACACCCGTGAA  128  176  252  332  482   668   902  1266  \n",
       "TCACGCGCATAAAAGTGTGG    0    0    0    0    0     0     0     0  \n",
       "\n",
       "[1000 rows x 21 columns]"
      ]
     },
     "execution_count": 9,
     "metadata": {},
     "output_type": "execute_result"
    }
   ],
   "source": [
    "df"
   ]
  },
  {
   "cell_type": "code",
   "execution_count": 10,
   "metadata": {},
   "outputs": [
    {
     "data": {
      "text/plain": [
       "<AxesSubplot:xlabel='20', ylabel='Density'>"
      ]
     },
     "execution_count": 10,
     "metadata": {},
     "output_type": "execute_result"
    },
    {
     "data": {
      "image/png": "[encoded data removed]",
      "text/plain": [
       "<Figure size 432x288 with 1 Axes>"
      ]
     },
     "metadata": {
      "needs_background": "light"
     },
     "output_type": "display_data"
    }
   ],
   "source": [
    "sns.kdeplot(df[20])"
   ]
  },
  {
   "cell_type": "code",
   "execution_count": 11,
   "metadata": {},
   "outputs": [
    {
     "data": {
      "text/plain": [
       "<seaborn.axisgrid.FacetGrid at 0x7ff4b4130d00>"
      ]
     },
     "execution_count": 11,
     "metadata": {},
     "output_type": "execute_result"
    },
    {
     "data": {
      "image/png": "[encoded data removed]",
      "text/plain": [
       "<Figure size 360x360 with 1 Axes>"
      ]
     },
     "metadata": {
      "needs_background": "light"
     },
     "output_type": "display_data"
    }
   ],
   "source": [
    "sns.displot(df[20], bins=20)"
   ]
  },
  {
   "cell_type": "markdown",
   "metadata": {},
   "source": [
    "Clonesized over time"
   ]
  },
  {
   "cell_type": "code",
   "execution_count": 7,
   "metadata": {},
   "outputs": [
    {
     "data": {
      "text/plain": [
       "Text(0, 0.5, 'Clone abundance')"
      ]
     },
     "execution_count": 7,
     "metadata": {},
     "output_type": "execute_result"
    },
    {
     "data": {
      "image/png": "[encoded data removed]",
      "text/plain": [
       "<Figure size 432x288 with 1 Axes>"
      ]
     },
     "metadata": {
      "needs_background": "light"
     },
     "output_type": "display_data"
    }
   ],
   "source": [
    "plt.plot(df.T, alpha=0.4)\n",
    "plt.yscale('log')\n",
    "plt.xlabel('Cycles')\n",
    "plt.ylabel('Clone abundance')"
   ]
  },
  {
   "cell_type": "markdown",
   "metadata": {},
   "source": [
    "# The death rate controls the scewness"
   ]
  },
  {
   "cell_type": "code",
   "execution_count": 56,
   "metadata": {},
   "outputs": [
    {
     "name": "stdout",
     "output_type": "stream",
     "text": [
      "Final:\t9.271e+05 molecules total, 990 subclones\n",
      "Final:\t5.811e+05 molecules total, 940 subclones\n",
      "Final:\t3.635e+05 molecules total, 889 subclones\n",
      "Final:\t2.319e+05 molecules total, 850 subclones\n",
      "Final:\t1.364e+05 molecules total, 794 subclones\n",
      "Final:\t7.468e+04 molecules total, 711 subclones\n",
      "Final:\t4.221e+04 molecules total, 621 subclones\n",
      "Final:\t2.474e+04 molecules total, 539 subclones\n",
      "Final:\t1.237e+04 molecules total, 447 subclones\n",
      "Final:\t5.334e+03 molecules total, 308 subclones\n",
      "Final:\t2.694e+03 molecules total, 236 subclones\n",
      "Final:\t1.100e+03 molecules total, 148 subclones\n"
     ]
    },
    {
     "data": {
      "image/png": "[encoded data removed]",
      "text/plain": [
       "<Figure size 720x720 with 12 Axes>"
      ]
     },
     "metadata": {
      "needs_background": "light"
     },
     "output_type": "display_data"
    }
   ],
   "source": [
    "d_range = np.linspace(0.01,0.49, 12)\n",
    "plt.figure(figsize=(10,10))\n",
    "Q = []\n",
    "for i, d in enumerate(d_range):\n",
    "    timecourse = sim.PCR_amplification_with_errors(\n",
    "        initial_seq_freq,\n",
    "        rounds=10,\n",
    "        per_base_error_rate=0,  # no mutations\n",
    "        prob_death = d)\n",
    "    df = timecourse_to_dataframe(timecourse)\n",
    "    \n",
    "    plt.subplot(4,3, i+1)\n",
    "    sns.histplot(df[10], bins=20)\n",
    "    plt.title(f'p_death={d:.2f}')\n",
    "    plt.xlabel('Clonesize')\n",
    "#     s = df[[20]]\n",
    "#     s['p_death'] = d\n",
    "#     Q.append(s)\n",
    "# Q =pd.concat(Q)\n",
    "plt.tight_layout()"
   ]
  },
  {
   "cell_type": "code",
   "execution_count": null,
   "metadata": {},
   "outputs": [],
   "source": [
    "for "
   ]
  }
 ],
 "metadata": {
  "kernelspec": {
   "display_name": "Python 3",
   "language": "python",
   "name": "python3"
  },
  "language_info": {
   "codemirror_mode": {
    "name": "ipython",
    "version": 3
   },
   "file_extension": ".py",
   "mimetype": "text/x-python",
   "name": "python",
   "nbconvert_exporter": "python",
   "pygments_lexer": "ipython3",
   "version": "3.8.5"
  }
 },
 "nbformat": 4,
 "nbformat_minor": 4
}
